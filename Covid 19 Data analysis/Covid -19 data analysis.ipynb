{
 "cells": [
  {
   "cell_type": "markdown",
   "metadata": {},
   "source": [
    "# Coronavirus"
   ]
  },
  {
   "cell_type": "markdown",
   "metadata": {},
   "source": [
    "Coronavirus disease (COVID-19) is an infectious disease caused by a newly discovered coronavirus.\n",
    "Most people who fall sick with COVID-19 will experience mild to moderate symptoms and recover without special treatment."
   ]
  },
  {
   "cell_type": "markdown",
   "metadata": {},
   "source": [
    "# HOW IT SPREADS"
   ]
  },
  {
   "cell_type": "markdown",
   "metadata": {},
   "source": [
    "The virus that causes COVID-19 is mainly transmitted through droplets generated when an infected person coughs, sneezes, or exhales. These droplets are too heavy to hang in the air, and quickly fall on floors or surfaces.\n",
    "You can be infected by breathing in the virus if you are within close proximity of someone who has COVID-19, or by touching a contaminated surface and then your eyes, nose or mouth."
   ]
  },
  {
   "cell_type": "markdown",
   "metadata": {},
   "source": [
    "# Information about Covid 19 Dataset"
   ]
  },
  {
   "cell_type": "markdown",
   "metadata": {},
   "source": [
    "Coronavirus disease 2019 (COVID-19) time series listing confirmed cases, reported deaths, and reported recoveries. Data is disaggregated by country (and sometimes sub region). Coronavirus disease (COVID-19) is caused by Severe acute respiratory syndrome Coronavirus 2 (SARS-CoV-2) and has had a worldwide effect. On March 11, 2020, the World Health Organization (WHO) declared it a pandemic, pointing to the over 118,000 cases of the coronavirus illness in over 110 countries and territories around the world at the time.\n",
    "\n",
    "This dataset includes data for tracking the number of people affected by COVID-19 worldwide, including:\n",
    "\n",
    "1. Confirmed tested cases of Coronavirus infection\n",
    "2. The number of people who have reportedly died while sick with Coronavirus\n",
    "3. The number of people who have reportedly recovered from it"
   ]
  },
  {
   "cell_type": "code",
   "execution_count": null,
   "metadata": {},
   "outputs": [],
   "source": [
    "# Import Libraries\n",
    "import numpy as np\n",
    "import pandas as pd\n",
    "import plotly.express as px\n",
    "import plotly.graph_objects as go\n",
    "import plotly.figure_factory as ff\n",
    "from plotly.subplots import make_subplots\n",
    "import matplotlib.pyplot as plt\n",
    "import plotly as py\n",
    "\n",
    "\n",
    "%matplotlib inline\n",
    "import math\n",
    "import random\n",
    "from datetime import timedelta\n",
    "\n",
    "#color pallette\n",
    "cnf='#393e46'\n",
    "dth='#ff2e63'\n",
    "rec='#21bf73'\n",
    "\n",
    "\n",
    "import warnings\n",
    "warnings.filterwarnings('ignore')"
   ]
  },
  {
   "cell_type": "code",
   "execution_count": null,
   "metadata": {},
   "outputs": [],
   "source": [
    "# Load the data\n",
    "covid=pd.read_csv(\"covid_dataset.csv\")"
   ]
  },
  {
   "cell_type": "code",
   "execution_count": null,
   "metadata": {},
   "outputs": [],
   "source": [
    "# Let's Check the first 5 rows of covid-19 dataset\n",
    "covid.head()"
   ]
  },
  {
   "cell_type": "code",
   "execution_count": null,
   "metadata": {},
   "outputs": [],
   "source": [
    "# Let's check the type of dataset\n",
    "covid.dtypes"
   ]
  },
  {
   "cell_type": "code",
   "execution_count": null,
   "metadata": {},
   "outputs": [],
   "source": [
    "# check the total number of rows and column\n",
    "covid.shape"
   ]
  },
  {
   "cell_type": "code",
   "execution_count": null,
   "metadata": {},
   "outputs": [],
   "source": [
    "# Check for total no. of null values\n",
    "covid.isnull().sum()"
   ]
  },
  {
   "cell_type": "code",
   "execution_count": null,
   "metadata": {},
   "outputs": [],
   "source": [
    "# Check unique countries in dataset\n",
    "covid['Country'].unique()"
   ]
  },
  {
   "cell_type": "code",
   "execution_count": null,
   "metadata": {},
   "outputs": [],
   "source": [
    "# Count of unique countries\n",
    "len(covid['Country'].unique())"
   ]
  },
  {
   "cell_type": "code",
   "execution_count": null,
   "metadata": {},
   "outputs": [],
   "source": [
    "# infromation of data\n",
    "covid.info()\n",
    "\n",
    "# Get some Statistics\n",
    "covid.describe()"
   ]
  },
  {
   "cell_type": "code",
   "execution_count": null,
   "metadata": {},
   "outputs": [],
   "source": [
    "# Let's check the correlation between variables\n",
    "covid.corr()"
   ]
  },
  {
   "cell_type": "code",
   "execution_count": null,
   "metadata": {},
   "outputs": [],
   "source": [
    "confirmed=covid.groupby('Date').sum()['Confirmed'].reset_index()\n",
    "recovered=covid.groupby('Date').sum()['Recovered'].reset_index()\n",
    "deaths=covid.groupby('Date').sum()['Deaths'].reset_index()\n",
    "cases=(deaths, confirmed, recovered)\n",
    "cases"
   ]
  },
  {
   "cell_type": "code",
   "execution_count": null,
   "metadata": {},
   "outputs": [],
   "source": [
    "# Let's make a query  for some particular countries\n",
    "covid.query('Country == \"US\" ')"
   ]
  },
  {
   "cell_type": "code",
   "execution_count": null,
   "metadata": {},
   "outputs": [],
   "source": [
    "covid.query('Country == \"India\" ')"
   ]
  },
  {
   "cell_type": "code",
   "execution_count": null,
   "metadata": {},
   "outputs": [],
   "source": [
    "covid.query('Country == \"China\" ')"
   ]
  },
  {
   "cell_type": "code",
   "execution_count": null,
   "metadata": {},
   "outputs": [],
   "source": [
    "covid.query('Country == \"Italy\" ')"
   ]
  },
  {
   "cell_type": "markdown",
   "metadata": {},
   "source": [
    "# Visualize top4 Corona Affected Countries"
   ]
  },
  {
   "cell_type": "code",
   "execution_count": null,
   "metadata": {},
   "outputs": [],
   "source": [
    "top4_corona_affected_country = pd.DataFrame(covid.groupby('Country')['Confirmed'].sum().nlargest(4).sort_values(ascending = False))\n",
    "fig3 = px.bar(top4_corona_affected_country , x = top4_corona_affected_country.index, y = 'Confirmed', height = 600, color = 'Confirmed',\n",
    "             title = 'Top 10 Confirmed Cases Countries', color_continuous_scale = px.colors.sequential.Viridis)\n",
    "fig3.show()"
   ]
  },
  {
   "cell_type": "markdown",
   "metadata": {},
   "source": [
    "# Worldwide Total Confirmed, Recovered and Deaths"
   ]
  },
  {
   "cell_type": "code",
   "execution_count": null,
   "metadata": {},
   "outputs": [],
   "source": [
    "# Find out the latest confrimed cases\n",
    "confirmed.tail()"
   ]
  },
  {
   "cell_type": "code",
   "execution_count": null,
   "metadata": {},
   "outputs": [],
   "source": [
    "# Find out the latest recovered cases\n",
    "recovered.tail()"
   ]
  },
  {
   "cell_type": "code",
   "execution_count": null,
   "metadata": {},
   "outputs": [],
   "source": [
    "# Find out the latest deaths cases\n",
    "deaths.tail()"
   ]
  },
  {
   "cell_type": "code",
   "execution_count": null,
   "metadata": {},
   "outputs": [],
   "source": [
    "# Plot the latest recovered,confirmed deaths on scatter plot\n",
    "fig=go.Figure()\n",
    "fig.add_trace(go.Scatter(x= confirmed['Date'], y=confirmed[\"Confirmed\"], mode='lines+markers', name='Confirmed cases', line=dict(color=\"Red\", width=2)))\n",
    "fig.add_trace(go.Scatter(x= recovered['Date'], y=recovered[\"Recovered\"], mode='lines+markers', name='Recovered cases', line=dict(color=\"Green\", width=2)))\n",
    "fig.add_trace(go.Scatter(x= deaths['Date'], y=deaths[\"Deaths\"], mode='lines+markers', name='Deaths cases', line=dict(color=\"Black\", width=2)))\n",
    "fig.update_layout(title= \" Worldwide Covid-19 Cases\", xaxis_tickfont_size=14,yaxis=dict(title=\"Number of cases\"))\n",
    "fig.show()"
   ]
  },
  {
   "cell_type": "markdown",
   "metadata": {},
   "source": [
    "# Cases over the Time With Area Plot"
   ]
  },
  {
   "cell_type": "code",
   "execution_count": null,
   "metadata": {},
   "outputs": [],
   "source": [
    "temp=covid.groupby('Date')[\"Confirmed\",\"Recovered\",\"Deaths\"].sum().reset_index()\n",
    "temp"
   ]
  },
  {
   "cell_type": "code",
   "execution_count": null,
   "metadata": {},
   "outputs": [],
   "source": [
    "# Get the latest value\n",
    "temp=temp[temp['Date']==max(temp['Date'])].reset_index(drop=True)\n",
    "temp"
   ]
  },
  {
   "cell_type": "code",
   "execution_count": null,
   "metadata": {},
   "outputs": [],
   "source": [
    "temp=covid.groupby('Date').sum()\n",
    "temp"
   ]
  },
  {
   "cell_type": "code",
   "execution_count": null,
   "metadata": {},
   "outputs": [],
   "source": [
    "temp=covid.groupby('Date')[\"Recovered\", \"Deaths\"].sum().reset_index()\n",
    "temp=temp.melt(id_vars='Date', value_vars=[\"Recovered\",\"Deaths\"], var_name=\"Case\", value_name='Count')\n",
    "temp\n",
    "fig=px.area(temp, x=\"Date\", y='Count', color=\"Case\", height=600, title=\"Cases over time\", color_discrete_sequence=[rec,dth])\n",
    "fig.update_layout(xaxis_rangeslider_visible=True)"
   ]
  },
  {
   "cell_type": "markdown",
   "metadata": {},
   "source": [
    "# Confirmed cases with choropleth Map"
   ]
  },
  {
   "cell_type": "code",
   "execution_count": null,
   "metadata": {
    "scrolled": true
   },
   "outputs": [],
   "source": [
    "fig=px.choropleth(covid, locations='Country', locationmode='country names', color=np.log(covid['Confirmed']),\n",
    "                 hover_name=\"Country\", animation_frame=covid[\"Date\"],\n",
    "                 title=\"Cases Over time\", color_continuous_scale=px.colors.sequential.Inferno)\n",
    "fig.update(layout_coloraxis_showscale=True)\n",
    "fig.show()"
   ]
  },
  {
   "cell_type": "markdown",
   "metadata": {},
   "source": [
    "In this animation we can see that, the color are becoming brighter means cases are changing there.\n",
    "These cases are on log scale that's why it is representing upto 12 on scale."
   ]
  },
  {
   "cell_type": "code",
   "execution_count": null,
   "metadata": {},
   "outputs": [],
   "source": [
    "# If we want to make it out of color badr\n",
    "# To show actual no. of confirmed cases\n",
    "fig=px.choropleth(covid, locations='Country', locationmode='country names', color=covid['Confirmed'],\n",
    "                 hover_name=\"Country\", animation_frame=covid[\"Date\"],\n",
    "                 title=\"Cases Over time\", color_continuous_scale=px.colors.sequential.Inferno)\n",
    "fig.update(layout_coloraxis_showscale=True)\n",
    "fig.show()"
   ]
  },
  {
   "cell_type": "markdown",
   "metadata": {},
   "source": [
    "# Deaths cases with choropleth Map"
   ]
  },
  {
   "cell_type": "code",
   "execution_count": null,
   "metadata": {},
   "outputs": [],
   "source": [
    "fig=px.choropleth(covid, locations='Country', locationmode='country names', color=np.log(covid['Deaths']),\n",
    "                 hover_name=\"Country\", animation_frame=covid[\"Date\"],\n",
    "                 title=\"Cases Over time\", color_continuous_scale=px.colors.sequential.Inferno)\n",
    "fig.update(layout_coloraxis_showscale=True)\n",
    "fig.show()"
   ]
  },
  {
   "cell_type": "code",
   "execution_count": null,
   "metadata": {},
   "outputs": [],
   "source": [
    "fig=px.choropleth(covid, locations='Country', locationmode='country names', color=covid['Deaths'],\n",
    "                 hover_name=\"Country\", animation_frame=covid[\"Date\"],\n",
    "                 title=\"Cases Over time\", color_continuous_scale=px.colors.sequential.Inferno)\n",
    "fig.update(layout_coloraxis_showscale=True)\n",
    "fig.show()"
   ]
  },
  {
   "cell_type": "markdown",
   "metadata": {},
   "source": [
    "# Recovered cases with choropleth Map"
   ]
  },
  {
   "cell_type": "code",
   "execution_count": null,
   "metadata": {},
   "outputs": [],
   "source": [
    "fig=px.choropleth(covid, locations='Country', locationmode='country names', color=np.log(covid['Recovered']),\n",
    "                 hover_name=\"Country\", animation_frame=covid[\"Date\"],\n",
    "                 title=\"Cases Over time\", color_continuous_scale=px.colors.sequential.Inferno)\n",
    "fig.update(layout_coloraxis_showscale=True)\n",
    "fig.show()"
   ]
  },
  {
   "cell_type": "code",
   "execution_count": null,
   "metadata": {},
   "outputs": [],
   "source": [
    "fig=px.choropleth(covid, locations='Country', locationmode='country names', color=covid['Recovered'],\n",
    "                 hover_name=\"Country\", animation_frame=covid[\"Date\"],\n",
    "                 title=\"Cases Over time\", color_continuous_scale=px.colors.sequential.Inferno)\n",
    "fig.update(layout_coloraxis_showscale=True)\n",
    "fig.show()"
   ]
  },
  {
   "cell_type": "markdown",
   "metadata": {},
   "source": [
    "# Deaths and Recoveries"
   ]
  },
  {
   "cell_type": "code",
   "execution_count": null,
   "metadata": {},
   "outputs": [],
   "source": [
    "fig_confirmed=px.bar(covid, x=\"Date\", y=\"Confirmed\", color_discrete_sequence=[cnf])\n",
    "fig_death=px.bar(covid, x=\"Date\", y=\"Deaths\", color_discrete_sequence=[dth])\n",
    "fig=make_subplots(rows=1, cols=2, shared_xaxes=False, horizontal_spacing=0.1,\n",
    "                subplot_titles=(\"Confirmed cases\",\"Deaths cases\"))\n",
    "fig.add_trace(fig_confirmed.data[0],row=1, col=1)\n",
    "fig.add_trace(fig_death.data[0],row=1, col=2)\n",
    "\n",
    "fig.update_layout(height=400)\n",
    "fig.show()\n"
   ]
  },
  {
   "cell_type": "markdown",
   "metadata": {},
   "source": [
    "# Death ,Recovered and Confirmed Cases with Static colormap"
   ]
  },
  {
   "cell_type": "code",
   "execution_count": null,
   "metadata": {},
   "outputs": [],
   "source": [
    "fig_death=px.choropleth(covid, locations='Country', locationmode=\"country names\",\n",
    "                       color=np.log(covid['Deaths']), hover_name=\"Country\",\n",
    "                       hover_data=[\"Deaths\"])\n",
    "\n",
    "fig_recovered=px.choropleth(covid, locations='Country', locationmode=\"country names\",\n",
    "                       color=np.log(covid['Recovered']), hover_name=\"Country\",\n",
    "                       hover_data=[\"Recovered\"])\n",
    "\n",
    "fig_confirmed=px.choropleth(covid, locations='Country', locationmode=\"country names\",\n",
    "                       color=np.log(covid['Confirmed']), hover_name=\"Country\",\n",
    "                       hover_data=[\"Confirmed\"])\n",
    "\n",
    "fig=make_subplots(rows=1, cols=3, subplot_titles=['Deaths','Recovered','Confirmed'],\n",
    "                 specs=[[{'type':'choropleth'},{'type':'choropleth'},{'type':'choropleth'}]])\n",
    "fig.add_trace(fig_death.data[0], row=1, col=1)\n",
    "fig.add_trace(fig_recovered.data[0], row=1, col=2)\n",
    "fig.add_trace(fig_confirmed.data[0], row=1, col=3)\n",
    "\n",
    "fig.show()"
   ]
  },
  {
   "cell_type": "code",
   "execution_count": null,
   "metadata": {},
   "outputs": [],
   "source": [
    "fig_death=px.choropleth(covid, locations='Country', locationmode=\"country names\",\n",
    "                       color=covid['Deaths'], hover_name=\"Country\",\n",
    "                       hover_data=[\"Deaths\"])\n",
    "\n",
    "fig_recovered=px.choropleth(covid, locations='Country', locationmode=\"country names\",\n",
    "                       color=covid['Recovered'], hover_name=\"Country\",\n",
    "                       hover_data=[\"Recovered\"])\n",
    "\n",
    "fig_confirmed=px.choropleth(covid, locations='Country', locationmode=\"country names\",\n",
    "                       color=covid['Confirmed'], hover_name=\"Country\",\n",
    "                       hover_data=[\"Confirmed\"])\n",
    "\n",
    "fig=make_subplots(rows=1, cols=3, subplot_titles=['Deaths','Recovered','Confirmed'],\n",
    "                 specs=[[{'type':'choropleth'},{'type':'choropleth'},{'type':'choropleth'}]])\n",
    "fig.add_trace(fig_death.data[0], row=1, col=1)\n",
    "fig.add_trace(fig_recovered.data[0], row=1, col=2)\n",
    "fig.add_trace(fig_confirmed.data[0], row=1, col=3)\n",
    "\n",
    "fig.show()"
   ]
  },
  {
   "cell_type": "code",
   "execution_count": null,
   "metadata": {},
   "outputs": [],
   "source": [
    "pd.pivot_table(covid,index=[\"Country\"], aggfunc=[np.sum])"
   ]
  },
  {
   "cell_type": "code",
   "execution_count": null,
   "metadata": {},
   "outputs": [],
   "source": [
    "pd.pivot_table(covid,index=[\"Date\",\"Country\"])"
   ]
  },
  {
   "cell_type": "code",
   "execution_count": null,
   "metadata": {},
   "outputs": [],
   "source": []
  }
 ],
 "metadata": {
  "kernelspec": {
   "display_name": "Python 3",
   "language": "python",
   "name": "python3"
  },
  "language_info": {
   "codemirror_mode": {
    "name": "ipython",
    "version": 3
   },
   "file_extension": ".py",
   "mimetype": "text/x-python",
   "name": "python",
   "nbconvert_exporter": "python",
   "pygments_lexer": "ipython3",
   "version": "3.8.5"
  }
 },
 "nbformat": 4,
 "nbformat_minor": 4
}
